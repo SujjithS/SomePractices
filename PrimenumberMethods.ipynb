{
  "nbformat": 4,
  "nbformat_minor": 0,
  "metadata": {
    "colab": {
      "name": "Untitled0.ipynb",
      "provenance": [],
      "collapsed_sections": [],
      "authorship_tag": "ABX9TyM1z8aMr18BlRb8kmQ08++n",
      "include_colab_link": true
    },
    "kernelspec": {
      "name": "python3",
      "display_name": "Python 3"
    },
    "language_info": {
      "name": "python"
    }
  },
  "cells": [
    {
      "cell_type": "markdown",
      "metadata": {
        "id": "view-in-github",
        "colab_type": "text"
      },
      "source": [
        "<a href=\"https://colab.research.google.com/github/SujjithS/gitjenkinsintegrationpractice/blob/master/PrimenumberMethods.ipynb\" target=\"_parent\"><img src=\"https://colab.research.google.com/assets/colab-badge.svg\" alt=\"Open In Colab\"/></a>"
      ]
    },
    {
      "cell_type": "code",
      "metadata": {
        "colab": {
          "base_uri": "https://localhost:8080/"
        },
        "id": "BqoqDBYXTkgr",
        "outputId": "14c6b2a1-dd87-435f-bf8d-b5222ee59e83"
      },
      "source": [
        "import time\n",
        "def my_Prime(n):\n",
        "  if(n<=1):\n",
        "    return False\n",
        "  for i in range(2,n):\n",
        "    if(n%i==0):\n",
        "      return False\n",
        "  else:\n",
        "    return True\n",
        "\n",
        "t0=time.time()\n",
        "c=0\n",
        "for n in range(1,100000):\n",
        "  x=my_Prime(n)\n",
        "  c+=x\n",
        "print(\"total prime numbers are: \",c)\n",
        "t1=time.time()\n",
        "print(\"Total time consumed: \",t1-t0)"
      ],
      "execution_count": 25,
      "outputs": [
        {
          "output_type": "stream",
          "text": [
            "total prime numbers are:  9592\n",
            "Total time consumed:  39.88615322113037\n"
          ],
          "name": "stdout"
        }
      ]
    },
    {
      "cell_type": "code",
      "metadata": {
        "colab": {
          "base_uri": "https://localhost:8080/"
        },
        "id": "DIbBDu6Mg4lV",
        "outputId": "5eebedea-69f3-4d22-9f7b-2b6d66095fa8"
      },
      "source": [
        "import math\n",
        "import time\n",
        "def my_PrimeusingMath(n):\n",
        "  if (n<=1):\n",
        "    return False\n",
        "  if (n%2==0) and n>2:\n",
        "    return False\n",
        "  if (n==2):\n",
        "    return True\n",
        "  MyMath=math.floor(math.sqrt(n))\n",
        "  for i in range(3,MyMath+1,2):\n",
        "    if(n%i==0):\n",
        "      return False\n",
        "  else:\n",
        "    return True\n",
        "\n",
        "t0=time.time()\n",
        "c=0\n",
        "for n in range(1,100000):\n",
        "  x=my_PrimeusingMath(n)\n",
        "  c+=x\n",
        "print(\"total prime numbers are: \",c)\n",
        "t1=time.time()\n",
        "print(\"Total time consumed: \",t1-t0)\n",
        "\n"
      ],
      "execution_count": 27,
      "outputs": [
        {
          "output_type": "stream",
          "text": [
            "total prime numbers are:  9592\n",
            "Total time consumed:  0.15118122100830078\n"
          ],
          "name": "stdout"
        }
      ]
    },
    {
      "cell_type": "code",
      "metadata": {
        "id": "QiC8J6LFj9wz"
      },
      "source": [
        ""
      ],
      "execution_count": null,
      "outputs": []
    }
  ]
}